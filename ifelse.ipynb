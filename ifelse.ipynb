{
 "cells": [
  {
   "cell_type": "code",
   "execution_count": 1,
   "metadata": {},
   "outputs": [
    {
     "name": "stdout",
     "output_type": "stream",
     "text": [
      "b is less than a\n",
      "b is greater than 0\n",
      " c =  20\n"
     ]
    }
   ],
   "source": [
    "a = 5 # no specific declaration for any variable\n",
    "b = 4\n",
    "if b == a:\n",
    "    print(\"both a and b are same\")\n",
    "elif b < a:\n",
    "  print(\"b is less than a\")\n",
    "  if b > 0:\n",
    "        print(\"b is greater than 0\")\n",
    "  c = a * b\n",
    "  print(' c = ',c)\n",
    "elif b != a:\n",
    "    print(\"both a and b are not same\")\n",
    "else:\n",
    "  print(\"b is greater than a\")"
   ]
  },
  {
   "cell_type": "code",
   "execution_count": 4,
   "metadata": {},
   "outputs": [
    {
     "name": "stdout",
     "output_type": "stream",
     "text": [
      "check \n"
     ]
    }
   ],
   "source": [
    "print(\"check \") if a > b else print(\"check failed\")  # if else can be written in a single statement as shown here"
   ]
  },
  {
   "cell_type": "code",
   "execution_count": null,
   "metadata": {},
   "outputs": [],
   "source": []
  }
 ],
 "metadata": {
  "kernelspec": {
   "display_name": "Python 3",
   "language": "python",
   "name": "python3"
  },
  "language_info": {
   "codemirror_mode": {
    "name": "ipython",
    "version": 3
   },
   "file_extension": ".py",
   "mimetype": "text/x-python",
   "name": "python",
   "nbconvert_exporter": "python",
   "pygments_lexer": "ipython3",
   "version": "3.7.6"
  }
 },
 "nbformat": 4,
 "nbformat_minor": 4
}
