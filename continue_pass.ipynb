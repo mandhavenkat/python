{
 "cells": [
  {
   "cell_type": "code",
   "execution_count": 4,
   "metadata": {},
   "outputs": [
    {
     "name": "stdout",
     "output_type": "stream",
     "text": [
      "range(0, 5)\n"
     ]
    }
   ],
   "source": [
    "j=range(5)\n",
    "print(j)"
   ]
  },
  {
   "cell_type": "code",
   "execution_count": 11,
   "metadata": {},
   "outputs": [
    {
     "name": "stdout",
     "output_type": "stream",
     "text": [
      "i <> 3 0\n",
      "continue Hello 0\n",
      "0\n",
      "i <> 3 1\n",
      "continue Hello 1\n",
      "1\n",
      "i <> 3 2\n",
      "continue Hello 2\n",
      "2\n",
      "continue statement for i value 3\n",
      "i <> 3 4\n",
      "continue Hello 4\n",
      "4\n"
     ]
    }
   ],
   "source": [
    "\n",
    "#continue\n",
    "for i in range(5):\n",
    "    if i==3:\n",
    "        print('continue statement for i value '+str(i))\n",
    "        continue;  # will direct to the loop execution and the following statements in the loop will not be executed\n",
    "    else:\n",
    "        print('i <> 3 '+str(i))  # will skip if i==3\n",
    "\n",
    "    print(\"continue Hello\",i) # will skip if i==3\n",
    "    print(i)"
   ]
  },
  {
   "cell_type": "code",
   "execution_count": 13,
   "metadata": {},
   "outputs": [
    {
     "name": "stdout",
     "output_type": "stream",
     "text": [
      "0\n",
      "pass Hello 0\n",
      "1\n",
      "pass Hello 1\n",
      "2\n",
      "pass Hello 2\n",
      "pass Hello 3\n",
      "4\n",
      "pass Hello 4\n"
     ]
    }
   ],
   "source": [
    "\n",
    "#pass\n",
    "for i in range(5):\n",
    "    if i==3:\n",
    "        pass;  #The pass statement is used as a placeholder for future code\n",
    "                # similar to null statement  i.e., do nothing\n",
    "    else:\n",
    "        print(i)\n",
    "    print(\"pass Hello\",i)\n"
   ]
  },
  {
   "cell_type": "code",
   "execution_count": null,
   "metadata": {},
   "outputs": [],
   "source": []
  }
 ],
 "metadata": {
  "kernelspec": {
   "display_name": "Python 3",
   "language": "python",
   "name": "python3"
  },
  "language_info": {
   "codemirror_mode": {
    "name": "ipython",
    "version": 3
   },
   "file_extension": ".py",
   "mimetype": "text/x-python",
   "name": "python",
   "nbconvert_exporter": "python",
   "pygments_lexer": "ipython3",
   "version": "3.7.6"
  }
 },
 "nbformat": 4,
 "nbformat_minor": 4
}
