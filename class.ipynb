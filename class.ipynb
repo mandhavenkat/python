{
 "cells": [
  {
   "cell_type": "code",
   "execution_count": 5,
   "metadata": {},
   "outputs": [
    {
     "name": "stdout",
     "output_type": "stream",
     "text": [
      "my class method1\n",
      "class method 2 calling method2\n"
     ]
    }
   ],
   "source": [
    "class myclass():\n",
    "    def method1(self):   # first argument should be always self, it refers to the object itselff, similar to this keyword in javascript\n",
    "        print(\"my class method1\")\n",
    "    def method2(self, somestring):\n",
    "        print(\"class method 2 \"+somestring)\n",
    "def main():\n",
    "    o = myclass()  # object instance of class --> myclass \n",
    "    o.method1()  \n",
    "    o.method2(\"calling method2\")\n",
    "\n",
    "if __name__ == \"__main__\":\n",
    "    main()\n"
   ]
  },
  {
   "cell_type": "code",
   "execution_count": null,
   "metadata": {},
   "outputs": [],
   "source": []
  }
 ],
 "metadata": {
  "kernelspec": {
   "display_name": "Python 3",
   "language": "python",
   "name": "python3"
  },
  "language_info": {
   "codemirror_mode": {
    "name": "ipython",
    "version": 3
   },
   "file_extension": ".py",
   "mimetype": "text/x-python",
   "name": "python",
   "nbconvert_exporter": "python",
   "pygments_lexer": "ipython3",
   "version": "3.7.6"
  }
 },
 "nbformat": 4,
 "nbformat_minor": 4
}
