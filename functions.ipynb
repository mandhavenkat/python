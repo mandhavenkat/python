{
 "cells": [
  {
   "cell_type": "markdown",
   "metadata": {},
   "source": [
    "#functions"
   ]
  },
  {
   "cell_type": "code",
   "execution_count": 2,
   "metadata": {},
   "outputs": [
    {
     "name": "stdout",
     "output_type": "stream",
     "text": [
      "my function\n",
      "my function\n",
      "1  None\n",
      "1  <function func1 at 0x0000000004ED3D38>\n"
     ]
    }
   ],
   "source": [
    "def func1():\n",
    "    print(\"my function\")\n",
    "\n",
    "func1()\n",
    "print('func1 1 ',func1())  # functional executed and no return value\n",
    "print('func1 2 ',func1) # invalid call\n"
   ]
  },
  {
   "cell_type": "markdown",
   "metadata": {},
   "source": [
    "#functions with arguments\n"
   ]
  },
  {
   "cell_type": "code",
   "execution_count": 6,
   "metadata": {},
   "outputs": [
    {
     "name": "stdout",
     "output_type": "stream",
     "text": [
      " arg1 10 arg2 20\n",
      " arg1 20 arg2 30\n",
      "func2 1  600\n",
      " arg1 5 arg2 8\n",
      "func2 2  40\n",
      "func2 3  <function func2 at 0x0000000004EBDA68>\n"
     ]
    }
   ],
   "source": [
    "def func2(arg1 = 5, arg2 = 8):  # default value assignments\n",
    "    print(' arg1 '+str(arg1)+ ' arg2 '+str(arg2))\n",
    "    return arg1 * arg2\n",
    "func2(10,20)\n",
    "print('func2 1 ', func2(20,30)) # default values will be over ridden with passed values\n",
    "print('func2 2 ', func2())  # will execute with default values\n",
    "print('func2 3 ', func2)"
   ]
  },
  {
   "cell_type": "code",
   "execution_count": 8,
   "metadata": {},
   "outputs": [
    {
     "name": "stdout",
     "output_type": "stream",
     "text": [
      " arg1 18 arg2 14\n"
     ]
    },
    {
     "data": {
      "text/plain": [
       "252"
      ]
     },
     "execution_count": 8,
     "metadata": {},
     "output_type": "execute_result"
    }
   ],
   "source": [
    "func2(arg2=14, arg1 = 18)  # calling the function with actual argument names "
   ]
  },
  {
   "cell_type": "code",
   "execution_count": null,
   "metadata": {},
   "outputs": [],
   "source": []
  }
 ],
 "metadata": {
  "kernelspec": {
   "display_name": "Python 3",
   "language": "python",
   "name": "python3"
  },
  "language_info": {
   "codemirror_mode": {
    "name": "ipython",
    "version": 3
   },
   "file_extension": ".py",
   "mimetype": "text/x-python",
   "name": "python",
   "nbconvert_exporter": "python",
   "pygments_lexer": "ipython3",
   "version": "3.7.6"
  }
 },
 "nbformat": 4,
 "nbformat_minor": 4
}
