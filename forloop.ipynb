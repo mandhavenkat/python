{
 "cells": [
  {
   "cell_type": "code",
   "execution_count": 4,
   "metadata": {},
   "outputs": [
    {
     "name": "stdout",
     "output_type": "stream",
     "text": [
      "1.5\n"
     ]
    }
   ],
   "source": [
    "x = ['venkat',10,1.5,'azmi']  # list it allows all kinds of data\n",
    "y = [1,2,3,4,5]  #list\n",
    "print(x[2])"
   ]
  },
  {
   "cell_type": "markdown",
   "metadata": {},
   "source": [
    "#python for loops are called iterators"
   ]
  },
  {
   "cell_type": "code",
   "execution_count": 5,
   "metadata": {},
   "outputs": [
    {
     "name": "stdout",
     "output_type": "stream",
     "text": [
      " i venkat\n",
      "venkat\n",
      " i 10\n",
      "10\n",
      " i 1.5\n",
      "1.5\n",
      " i azmi\n",
      "azmi\n"
     ]
    }
   ],
   "source": [
    "for i in x:\n",
    "    print(\" i \"+str(i)) # exclusive string conversion required while printing when the print statement begins with a default string value\n",
    "    print(i)  # interpretor will convert the value of i to string for all numeric/float values"
   ]
  },
  {
   "cell_type": "code",
   "execution_count": 2,
   "metadata": {},
   "outputs": [
    {
     "name": "stdout",
     "output_type": "stream",
     "text": [
      "0\n",
      "1\n",
      "2\n",
      "3\n",
      "4\n"
     ]
    }
   ],
   "source": [
    "for x in range(5):\n",
    "    print(x)"
   ]
  },
  {
   "cell_type": "code",
   "execution_count": 3,
   "metadata": {},
   "outputs": [
    {
     "name": "stdout",
     "output_type": "stream",
     "text": [
      "5\n",
      "6\n",
      "7\n",
      "8\n",
      "9\n"
     ]
    }
   ],
   "source": [
    "for x in range(5,10):  # to loop through a range of values\n",
    "    print(x)"
   ]
  },
  {
   "cell_type": "markdown",
   "metadata": {},
   "source": [
    "#for loop over a list"
   ]
  },
  {
   "cell_type": "code",
   "execution_count": 5,
   "metadata": {},
   "outputs": [
    {
     "name": "stdout",
     "output_type": "stream",
     "text": [
      "jan\n",
      "feb\n",
      "mar\n",
      "apr\n",
      "may\n"
     ]
    }
   ],
   "source": [
    "lis = ['jan','feb','mar','apr','may']\n",
    "for j in lis:\n",
    "    print(j)"
   ]
  },
  {
   "cell_type": "markdown",
   "metadata": {},
   "source": [
    "# we can add index value in for loop as shown below"
   ]
  },
  {
   "cell_type": "code",
   "execution_count": 7,
   "metadata": {},
   "outputs": [
    {
     "name": "stdout",
     "output_type": "stream",
     "text": [
      " index 0 value jan\n",
      " index 1 value feb\n",
      " index 2 value mar\n",
      " index 3 value apr\n",
      " index 4 value may\n"
     ]
    }
   ],
   "source": [
    "for k,l in enumerate(lis):  # enuerate will return the object value and its positional index as shown\n",
    "    print(' index '+str(k)+' value '+l)\n",
    "    "
   ]
  },
  {
   "cell_type": "code",
   "execution_count": null,
   "metadata": {},
   "outputs": [],
   "source": []
  }
 ],
 "metadata": {
  "kernelspec": {
   "display_name": "Python 3",
   "language": "python",
   "name": "python3"
  },
  "language_info": {
   "codemirror_mode": {
    "name": "ipython",
    "version": 3
   },
   "file_extension": ".py",
   "mimetype": "text/x-python",
   "name": "python",
   "nbconvert_exporter": "python",
   "pygments_lexer": "ipython3",
   "version": "3.7.6"
  }
 },
 "nbformat": 4,
 "nbformat_minor": 4
}
