{
 "cells": [
  {
   "cell_type": "code",
   "execution_count": 4,
   "metadata": {},
   "outputs": [
    {
     "name": "stdout",
     "output_type": "stream",
     "text": [
      "1.5\n"
     ]
    }
   ],
   "source": [
    "x = ['venkat',10,1.5,'azmi']  # list it allows all kinds of data\n",
    "y = [1,2,3,4,5]  #list\n",
    "print(x[2])"
   ]
  },
  {
   "cell_type": "code",
   "execution_count": 5,
   "metadata": {},
   "outputs": [
    {
     "name": "stdout",
     "output_type": "stream",
     "text": [
      " i venkat\n",
      "venkat\n",
      " i 10\n",
      "10\n",
      " i 1.5\n",
      "1.5\n",
      " i azmi\n",
      "azmi\n"
     ]
    }
   ],
   "source": [
    "for i in x:\n",
    "    print(\" i \"+str(i)) # exclusive string conversion required while printing when the print statement begins with a default string value\n",
    "    print(i)  # interpretor will convert the value of i to string for all numeric/float values"
   ]
  },
  {
   "cell_type": "code",
   "execution_count": null,
   "metadata": {},
   "outputs": [],
   "source": []
  }
 ],
 "metadata": {
  "kernelspec": {
   "display_name": "Python 3",
   "language": "python",
   "name": "python3"
  },
  "language_info": {
   "codemirror_mode": {
    "name": "ipython",
    "version": 3
   },
   "file_extension": ".py",
   "mimetype": "text/x-python",
   "name": "python",
   "nbconvert_exporter": "python",
   "pygments_lexer": "ipython3",
   "version": "3.7.6"
  }
 },
 "nbformat": 4,
 "nbformat_minor": 4
}
