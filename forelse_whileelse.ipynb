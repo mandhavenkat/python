{
 "cells": [
  {
   "cell_type": "code",
   "execution_count": 17,
   "metadata": {},
   "outputs": [
    {
     "name": "stdout",
     "output_type": "stream",
     "text": [
      "not found\n"
     ]
    }
   ],
   "source": [
    "nums1 = []  # empty list declaration\n",
    "for i in nums1:\n",
    "    print(i)\n",
    "else:   # this statement will be executed at the end of the for statement\n",
    "    print(\"not found\")"
   ]
  },
  {
   "cell_type": "code",
   "execution_count": 24,
   "metadata": {},
   "outputs": [
    {
     "name": "stdout",
     "output_type": "stream",
     "text": [
      "10201\n",
      "256\n",
      "324\n",
      "441\n",
      "676\n",
      "not found\n"
     ]
    }
   ],
   "source": [
    "nums2 = [101,16,18,21,26]\n",
    "for i in nums2:  # for loop logic\n",
    "    print(i*i)\n",
    "else:   # this statement will be executed at the end of the for statement\n",
    "    print(\"not found\")"
   ]
  },
  {
   "cell_type": "code",
   "execution_count": 27,
   "metadata": {},
   "outputs": [
    {
     "name": "stdout",
     "output_type": "stream",
     "text": [
      "100\n",
      "81\n",
      "64\n",
      "49\n",
      "36\n",
      "25\n",
      "16\n",
      "9\n",
      "4\n",
      "not found\n"
     ]
    }
   ],
   "source": [
    "k = 10\n",
    "while k > 1:  # while - else loop logic\n",
    "    print(k * k)\n",
    "    k -= 1  # k = k - 1\n",
    "else:   # this statement will be executed at the end of the for statement\n",
    "    print(\"not found\")"
   ]
  },
  {
   "cell_type": "code",
   "execution_count": null,
   "metadata": {},
   "outputs": [],
   "source": []
  },
  {
   "cell_type": "code",
   "execution_count": null,
   "metadata": {},
   "outputs": [],
   "source": []
  }
 ],
 "metadata": {
  "kernelspec": {
   "display_name": "Python 3",
   "language": "python",
   "name": "python3"
  },
  "language_info": {
   "codemirror_mode": {
    "name": "ipython",
    "version": 3
   },
   "file_extension": ".py",
   "mimetype": "text/x-python",
   "name": "python",
   "nbconvert_exporter": "python",
   "pygments_lexer": "ipython3",
   "version": "3.7.6"
  }
 },
 "nbformat": 4,
 "nbformat_minor": 4
}
