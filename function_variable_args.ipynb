{
 "cells": [
  {
   "cell_type": "markdown",
   "metadata": {},
   "source": [
    "# passing variable number of arguments"
   ]
  },
  {
   "cell_type": "code",
   "execution_count": 7,
   "metadata": {},
   "outputs": [
    {
     "name": "stdout",
     "output_type": "stream",
     "text": [
      " call 1\n",
      "5\n",
      "10\n",
      " call 2 \n",
      "410\n",
      "910\n",
      "1610\n"
     ]
    }
   ],
   "source": [
    "# note the variable arguments parameter should be the last parameter in the function\n",
    "def func(arg1, *args):\n",
    "    for x in args:\n",
    "        print(arg1 + x * x)\n",
    "print(' call 1')\n",
    "func(1,2,3)\n",
    "print(' call 2 ')\n",
    "func(10,20,30,40)"
   ]
  },
  {
   "cell_type": "code",
   "execution_count": 8,
   "metadata": {},
   "outputs": [
    {
     "name": "stdout",
     "output_type": "stream",
     "text": [
      "__main__\n"
     ]
    }
   ],
   "source": [
    "print(__name__)  # __name__ is a built-in variable which evaluates to the name of the current module "
   ]
  }
 ],
 "metadata": {
  "kernelspec": {
   "display_name": "Python 3",
   "language": "python",
   "name": "python3"
  },
  "language_info": {
   "codemirror_mode": {
    "name": "ipython",
    "version": 3
   },
   "file_extension": ".py",
   "mimetype": "text/x-python",
   "name": "python",
   "nbconvert_exporter": "python",
   "pygments_lexer": "ipython3",
   "version": "3.7.6"
  }
 },
 "nbformat": 4,
 "nbformat_minor": 4
}
